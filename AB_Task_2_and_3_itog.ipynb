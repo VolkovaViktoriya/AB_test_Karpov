{
 "cells": [
  {
   "cell_type": "code",
   "execution_count": 1,
   "id": "54b293d4-7e95-4587-bfb4-24ab45ecb8a3",
   "metadata": {},
   "outputs": [],
   "source": [
    "import pandas as pd\n",
    "import pandahouse as ph\n",
    "import seaborn as sns\n",
    "import scipy.stats as stats\n",
    "import numpy as np\n"
   ]
  },
  {
   "cell_type": "markdown",
   "id": "5acdfe10-a9b4-49c7-be68-86a15e455582",
   "metadata": {},
   "source": [
    "## Загрузка и неформальная проверка данных"
   ]
  },
  {
   "cell_type": "code",
   "execution_count": 2,
   "id": "87b3d5ab-ffdc-4981-b95c-8721b7a00f4f",
   "metadata": {},
   "outputs": [
    {
     "data": {
      "text/html": [
       "<div>\n",
       "<style scoped>\n",
       "    .dataframe tbody tr th:only-of-type {\n",
       "        vertical-align: middle;\n",
       "    }\n",
       "\n",
       "    .dataframe tbody tr th {\n",
       "        vertical-align: top;\n",
       "    }\n",
       "\n",
       "    .dataframe thead th {\n",
       "        text-align: right;\n",
       "    }\n",
       "</style>\n",
       "<table border=\"1\" class=\"dataframe\">\n",
       "  <thead>\n",
       "    <tr style=\"text-align: right;\">\n",
       "      <th></th>\n",
       "      <th>user_id</th>\n",
       "      <th>likes</th>\n",
       "      <th>views</th>\n",
       "      <th>ctr</th>\n",
       "    </tr>\n",
       "    <tr>\n",
       "      <th>exp_group</th>\n",
       "      <th></th>\n",
       "      <th></th>\n",
       "      <th></th>\n",
       "      <th></th>\n",
       "    </tr>\n",
       "  </thead>\n",
       "  <tbody>\n",
       "    <tr>\n",
       "      <th>1</th>\n",
       "      <td>10079</td>\n",
       "      <td>10079</td>\n",
       "      <td>10079</td>\n",
       "      <td>10079</td>\n",
       "    </tr>\n",
       "    <tr>\n",
       "      <th>2</th>\n",
       "      <td>9952</td>\n",
       "      <td>9952</td>\n",
       "      <td>9952</td>\n",
       "      <td>9952</td>\n",
       "    </tr>\n",
       "  </tbody>\n",
       "</table>\n",
       "</div>"
      ],
      "text/plain": [
       "           user_id  likes  views    ctr\n",
       "exp_group                              \n",
       "1            10079  10079  10079  10079\n",
       "2             9952   9952   9952   9952"
      ]
     },
     "execution_count": 2,
     "metadata": {},
     "output_type": "execute_result"
    }
   ],
   "source": [
    "# создаем подключение, проверяем, что связь есть, смотрим,\n",
    "# что данные возвращаются адекватные\n",
    "connection = {'host': 'https://clickhouse.lab.karpov.courses',\n",
    "                      'database':'simulator_20220920',\n",
    "                      'user':'student', \n",
    "                      'password':'dpo_python_2020'\n",
    "                     }\n",
    "\n",
    "# подключились к БД и выполнили запрос по извлечению всех пользователей \n",
    "# в группе 2 и 1 в нужном временном интервале и информации по ним \n",
    "q1 = \"\"\"\n",
    "    SELECT exp_group\n",
    "        ,  user_id\n",
    "        ,  sum(action = 'like') as likes\n",
    "        ,  sum(action = 'view') as views\n",
    "        ,  likes/views as ctr\n",
    "    FROM {db}.feed_actions \n",
    "    WHERE toDate(time) between '2022-09-03' and '2022-09-09'\n",
    "        and exp_group in (2,1)\n",
    "    GROUP BY exp_group, user_id\n",
    "    \"\"\"\n",
    "df = ph.read_clickhouse(q1, connection=connection)\n",
    "# вывели число пользователей в получившихся группах\n",
    "df.groupby('exp_group').count()\n"
   ]
  },
  {
   "cell_type": "code",
   "execution_count": 3,
   "id": "e83fcc64-afe5-4f84-bd1c-962be5220f36",
   "metadata": {},
   "outputs": [
    {
     "data": {
      "text/html": [
       "<div>\n",
       "<style scoped>\n",
       "    .dataframe tbody tr th:only-of-type {\n",
       "        vertical-align: middle;\n",
       "    }\n",
       "\n",
       "    .dataframe tbody tr th {\n",
       "        vertical-align: top;\n",
       "    }\n",
       "\n",
       "    .dataframe thead th {\n",
       "        text-align: right;\n",
       "    }\n",
       "</style>\n",
       "<table border=\"1\" class=\"dataframe\">\n",
       "  <thead>\n",
       "    <tr style=\"text-align: right;\">\n",
       "      <th></th>\n",
       "      <th>exp_group</th>\n",
       "      <th>user_id</th>\n",
       "      <th>likes</th>\n",
       "      <th>views</th>\n",
       "      <th>ctr</th>\n",
       "    </tr>\n",
       "  </thead>\n",
       "  <tbody>\n",
       "    <tr>\n",
       "      <th>count</th>\n",
       "      <td>20031.000000</td>\n",
       "      <td>20031.000000</td>\n",
       "      <td>20031.000000</td>\n",
       "      <td>20031.000000</td>\n",
       "      <td>20031.000000</td>\n",
       "    </tr>\n",
       "    <tr>\n",
       "      <th>mean</th>\n",
       "      <td>1.496830</td>\n",
       "      <td>75343.140432</td>\n",
       "      <td>13.448954</td>\n",
       "      <td>66.224652</td>\n",
       "      <td>0.215016</td>\n",
       "    </tr>\n",
       "    <tr>\n",
       "      <th>std</th>\n",
       "      <td>0.500002</td>\n",
       "      <td>53262.345755</td>\n",
       "      <td>10.865224</td>\n",
       "      <td>45.095939</td>\n",
       "      <td>0.117862</td>\n",
       "    </tr>\n",
       "    <tr>\n",
       "      <th>min</th>\n",
       "      <td>1.000000</td>\n",
       "      <td>206.000000</td>\n",
       "      <td>0.000000</td>\n",
       "      <td>1.000000</td>\n",
       "      <td>0.000000</td>\n",
       "    </tr>\n",
       "    <tr>\n",
       "      <th>25%</th>\n",
       "      <td>1.000000</td>\n",
       "      <td>22034.000000</td>\n",
       "      <td>6.000000</td>\n",
       "      <td>32.000000</td>\n",
       "      <td>0.117021</td>\n",
       "    </tr>\n",
       "    <tr>\n",
       "      <th>50%</th>\n",
       "      <td>1.000000</td>\n",
       "      <td>109234.000000</td>\n",
       "      <td>11.000000</td>\n",
       "      <td>56.000000</td>\n",
       "      <td>0.195122</td>\n",
       "    </tr>\n",
       "    <tr>\n",
       "      <th>75%</th>\n",
       "      <td>2.000000</td>\n",
       "      <td>126220.500000</td>\n",
       "      <td>18.000000</td>\n",
       "      <td>90.000000</td>\n",
       "      <td>0.291667</td>\n",
       "    </tr>\n",
       "    <tr>\n",
       "      <th>max</th>\n",
       "      <td>2.000000</td>\n",
       "      <td>141164.000000</td>\n",
       "      <td>95.000000</td>\n",
       "      <td>321.000000</td>\n",
       "      <td>0.923077</td>\n",
       "    </tr>\n",
       "  </tbody>\n",
       "</table>\n",
       "</div>"
      ],
      "text/plain": [
       "          exp_group        user_id         likes         views           ctr\n",
       "count  20031.000000   20031.000000  20031.000000  20031.000000  20031.000000\n",
       "mean       1.496830   75343.140432     13.448954     66.224652      0.215016\n",
       "std        0.500002   53262.345755     10.865224     45.095939      0.117862\n",
       "min        1.000000     206.000000      0.000000      1.000000      0.000000\n",
       "25%        1.000000   22034.000000      6.000000     32.000000      0.117021\n",
       "50%        1.000000  109234.000000     11.000000     56.000000      0.195122\n",
       "75%        2.000000  126220.500000     18.000000     90.000000      0.291667\n",
       "max        2.000000  141164.000000     95.000000    321.000000      0.923077"
      ]
     },
     "execution_count": 3,
     "metadata": {},
     "output_type": "execute_result"
    }
   ],
   "source": [
    "df.describe()"
   ]
  },
  {
   "cell_type": "code",
   "execution_count": 4,
   "id": "94504b81-b8d1-4aca-a255-26a8577803c6",
   "metadata": {},
   "outputs": [
    {
     "data": {
      "text/html": [
       "<div>\n",
       "<style scoped>\n",
       "    .dataframe tbody tr th:only-of-type {\n",
       "        vertical-align: middle;\n",
       "    }\n",
       "\n",
       "    .dataframe tbody tr th {\n",
       "        vertical-align: top;\n",
       "    }\n",
       "\n",
       "    .dataframe thead th {\n",
       "        text-align: right;\n",
       "    }\n",
       "</style>\n",
       "<table border=\"1\" class=\"dataframe\">\n",
       "  <thead>\n",
       "    <tr style=\"text-align: right;\">\n",
       "      <th></th>\n",
       "      <th>exp_group</th>\n",
       "      <th>user_id</th>\n",
       "      <th>likes</th>\n",
       "      <th>views</th>\n",
       "      <th>ctr</th>\n",
       "    </tr>\n",
       "  </thead>\n",
       "  <tbody>\n",
       "    <tr>\n",
       "      <th>0</th>\n",
       "      <td>1</td>\n",
       "      <td>109963</td>\n",
       "      <td>3</td>\n",
       "      <td>15</td>\n",
       "      <td>0.200000</td>\n",
       "    </tr>\n",
       "    <tr>\n",
       "      <th>1</th>\n",
       "      <td>1</td>\n",
       "      <td>26117</td>\n",
       "      <td>32</td>\n",
       "      <td>141</td>\n",
       "      <td>0.226950</td>\n",
       "    </tr>\n",
       "    <tr>\n",
       "      <th>2</th>\n",
       "      <td>1</td>\n",
       "      <td>138232</td>\n",
       "      <td>18</td>\n",
       "      <td>73</td>\n",
       "      <td>0.246575</td>\n",
       "    </tr>\n",
       "    <tr>\n",
       "      <th>3</th>\n",
       "      <td>1</td>\n",
       "      <td>26295</td>\n",
       "      <td>33</td>\n",
       "      <td>122</td>\n",
       "      <td>0.270492</td>\n",
       "    </tr>\n",
       "    <tr>\n",
       "      <th>4</th>\n",
       "      <td>1</td>\n",
       "      <td>18392</td>\n",
       "      <td>7</td>\n",
       "      <td>32</td>\n",
       "      <td>0.218750</td>\n",
       "    </tr>\n",
       "    <tr>\n",
       "      <th>5</th>\n",
       "      <td>2</td>\n",
       "      <td>131473</td>\n",
       "      <td>14</td>\n",
       "      <td>134</td>\n",
       "      <td>0.104478</td>\n",
       "    </tr>\n",
       "    <tr>\n",
       "      <th>6</th>\n",
       "      <td>2</td>\n",
       "      <td>23985</td>\n",
       "      <td>7</td>\n",
       "      <td>87</td>\n",
       "      <td>0.080460</td>\n",
       "    </tr>\n",
       "  </tbody>\n",
       "</table>\n",
       "</div>"
      ],
      "text/plain": [
       "   exp_group  user_id  likes  views       ctr\n",
       "0          1   109963      3     15  0.200000\n",
       "1          1    26117     32    141  0.226950\n",
       "2          1   138232     18     73  0.246575\n",
       "3          1    26295     33    122  0.270492\n",
       "4          1    18392      7     32  0.218750\n",
       "5          2   131473     14    134  0.104478\n",
       "6          2    23985      7     87  0.080460"
      ]
     },
     "execution_count": 4,
     "metadata": {},
     "output_type": "execute_result"
    }
   ],
   "source": [
    "df.head(7)"
   ]
  },
  {
   "cell_type": "markdown",
   "id": "c6250cc1-b1a4-4e9d-b9eb-72387cebe548",
   "metadata": {
    "tags": []
   },
   "source": [
    "# Задача 2"
   ]
  },
  {
   "cell_type": "markdown",
   "id": "f9ec9766-6fb0-47eb-a58f-092bd7ed91a9",
   "metadata": {
    "tags": []
   },
   "source": [
    "## Визуализация нужных групп, их предварительный анализ"
   ]
  },
  {
   "cell_type": "code",
   "execution_count": 5,
   "id": "2fb45582-b980-4393-8d41-e4200e0d611e",
   "metadata": {},
   "outputs": [
    {
     "data": {
      "image/png": "[encoded data removed]",
      "text/plain": [
       "<Figure size 842.4x595.44 with 1 Axes>"
      ]
     },
     "metadata": {},
     "output_type": "display_data"
    }
   ],
   "source": [
    "# гистограммы по обоим группам вместе (на одном рисунке)\n",
    "# cделаем графики в seaborn покрупнее\n",
    "sns.set(rc={'figure.figsize':(11.7,8.27)})\n",
    "\n",
    "groups = sns.histplot(data = df, \n",
    "              x='ctr', \n",
    "              hue='exp_group', \n",
    "              palette = ['r', 'b'],\n",
    "              alpha=0.5,\n",
    "              kde=False)\n"
   ]
  },
  {
   "cell_type": "markdown",
   "id": "ca039eee-be6a-4fdd-8e7e-619267b3510d",
   "metadata": {},
   "source": [
    "Что видим на гистограмме:\n",
    "- в первой группе распределение одномодальное, немного ассиметричное,с некоторомы выбросами в нуле и на правой стороне;\n",
    "- в группе 2 распределение двумодальное - один  пик, причем более высокий (т.е. это достаточно представительная по числу пользователей группа), сместился относительно группы 1 в сторону меньших значений CTR, а второй пик представляет людей, у которых число лайков на число просмотров (т.е. CTR) увеличилось.\n",
    "\n",
    "То есть можно сделать предварительный вывод о том, что новый алгоритм разделил пользователей на две ярко выраженных подгруппы ( в группе 2) - в  одной,  скорее меньшей (для более точного утверждения надо сравнивать площади под  соответствующими кусочками гистограмм), новшество вызвало увеличение CTR, а в другой группе - уменьшение CTR. Надо заметить, что при этом нулевые CTR ушли, хотя это может быть проявлением случайности. Т.е. части пользователей новшество понравилось, а части - нет.  \n",
    "\n",
    "Надо заметить, что такая ситуация  двумодальности является противопоказанием применения параметрических тестов, опирающихся на значения среднего и дисперсии, в том  числе t-критерия Стьюдента. Это аналогично вычислению средней температуры по больнице, когда учитывают и морг, и находящихся в горячке - в среднем может получиться вполне \"здоровая\" температура. Ну и с формальной точки зрения такая ярко выраженная двумодальность максимально далека как от предположения нормальности распределения наблюдений в каждой из групп, так и подразумеваемого предположения однородности (по своим характеристикам) объектов внутри каждой из сравниваемых групп.  \n",
    "\n",
    "И дисперсия, вычисляемая по привычной формуле (используемая в знаменателе статистики t-критерия), будет плохой оценкой истинной дисперсии в случае  двумодальной выборки, она будет больше по сравнению содномодальным случаем, что будет приводить к уменьшению значения статистики,  что, в свою очередь,  будет делать t-критерий более склонным к  тому, чтобы не отвергать гипотезу о  равенстве средних.   "
   ]
  },
  {
   "cell_type": "markdown",
   "id": "531119cf-7ec1-4ac5-9153-da9f0936bc74",
   "metadata": {},
   "source": [
    "## Классические АВ-тесты (t-критерий и Маннна-Уитни)"
   ]
  },
  {
   "cell_type": "code",
   "execution_count": 6,
   "id": "ef70ff23-6a70-477c-968a-00b456b38c49",
   "metadata": {},
   "outputs": [
    {
     "data": {
      "text/plain": [
       "Ttest_indResult(statistic=-0.7094392041270486, pvalue=0.4780623130874935)"
      ]
     },
     "execution_count": 6,
     "metadata": {},
     "output_type": "execute_result"
    }
   ],
   "source": [
    "# получение результатов t-test по группам 1 и 2  по показателю ctr\n",
    "stats.ttest_ind(df[df.exp_group == 2].ctr,\n",
    "                df[df.exp_group == 1].ctr,\n",
    "                equal_var=False)"
   ]
  },
  {
   "cell_type": "code",
   "execution_count": 7,
   "id": "9713a00c-8d2c-471d-b7ac-a87421026930",
   "metadata": {},
   "outputs": [
    {
     "data": {
      "text/plain": [
       "MannwhitneyuResult(statistic=43704947.5, pvalue=6.0376484617779035e-56)"
      ]
     },
     "execution_count": 7,
     "metadata": {},
     "output_type": "execute_result"
    }
   ],
   "source": [
    "# получение результатов Манна-Уитни по группам 1 и 2  по показателю ctr\n",
    "stats.mannwhitneyu(df[df.exp_group == 2].ctr, \n",
    "                   df[df.exp_group == 1].ctr,\n",
    "                   alternative = 'two-sided')\n"
   ]
  },
  {
   "cell_type": "markdown",
   "id": "93fd2cd0-91b6-49b0-a191-7766cb6e2593",
   "metadata": {},
   "source": [
    "Вывод по данным критериям в какой то степени ожидаем: \n",
    "- параметрический t-критерий не нашел различий: гипотеза о равенстве средних в группах 1 и 2 не отвергается, поскольку pvalue=0.478>0.05, где 0.05 - традиционное значене для ошибки 1 рода (уровня значимости). Но, как говорилось выше, t-критерий опирается на среднее, которое здесь будет \"компромисным\" средним между двумя средними значениями CTR в двух подгруппах группы 2, и это компромисное среднее будет близко к среднему в группе 1. В целом при анализе гистограмм уже было приведено обоснование того, почему в  данной ситуации нельзя опираться на результаты, полученные с помощью t-критерия.  \n",
    "- непарамерический критерий отверг нулевую гипотезу (pvalue=6.037e-56<<0.05), но в данном случае это обусловлено скорее разной формой распределений (одномодальное близкое к нормальному, и двумодальное, близкое к смеси двух нормальных  распределений), а не различиями в средних показателях этих распределений.  \n",
    "\n",
    "Общий вывод - на основании критериев и информации о виде распределений в группах нельзя утверждать, что новшество обеспечивает статистически значимо лучшие показатели по CTR. Во всяком случае, если нас интересует возможность выкатить обновление на  всех пользователей, не разделяя их (по предоставляемому функционалу) на определенные подгруппы (их характеристики можно было бы попробовать определить, разделив группу 2 на подгруппы тех, у кого CTR больше или меньше 0.2, и проведя классификацию этих подгрупп сучетом остальных доступных характеристик пользователей)."
   ]
  },
  {
   "cell_type": "markdown",
   "id": "45ea82e5-bdc9-40f6-ae0e-1da00033e7e0",
   "metadata": {},
   "source": [
    "## Сглаженный CTR"
   ]
  },
  {
   "cell_type": "code",
   "execution_count": 8,
   "id": "1e953f01-94bd-4e59-a58d-130222bf82bd",
   "metadata": {},
   "outputs": [],
   "source": [
    "#функция для вычисления сглаженного CTR\n",
    "def get_smothed_ctr(user_likes, user_views, global_ctr, alpha):\n",
    "    smothed_ctr = (user_likes + alpha * global_ctr) / (user_views + alpha)\n",
    "    return smothed_ctr\n"
   ]
  },
  {
   "cell_type": "code",
   "execution_count": 9,
   "id": "2ba58421-67c2-4946-bacd-ed335c98ce3c",
   "metadata": {},
   "outputs": [
    {
     "data": {
      "text/plain": [
       "(0.20802680490126244, 0.1980601844115994)"
      ]
     },
     "execution_count": 9,
     "metadata": {},
     "output_type": "execute_result"
    }
   ],
   "source": [
    "# обобщенный  CTR (по группам) \n",
    "global_ctr_1 = df[df.exp_group == 1].likes.sum()/df[df.exp_group == 1].views.sum()\n",
    "global_ctr_2 = df[df.exp_group == 2].likes.sum()/df[df.exp_group == 2].views.sum()\n",
    "\n",
    "(global_ctr_1, global_ctr_2)"
   ]
  },
  {
   "cell_type": "code",
   "execution_count": 10,
   "id": "11ab996e-65a3-449a-986d-306a8f197661",
   "metadata": {},
   "outputs": [
    {
     "name": "stderr",
     "output_type": "stream",
     "text": [
      "/nfs/env/lib/python3.8/site-packages/seaborn/distributions.py:2557: FutureWarning: `distplot` is a deprecated function and will be removed in a future version. Please adapt your code to use either `displot` (a figure-level function with similar flexibility) or `histplot` (an axes-level function for histograms).\n",
      "  warnings.warn(msg, FutureWarning)\n"
     ]
    },
    {
     "data": {
      "text/plain": [
       "<AxesSubplot:xlabel='smothed_ctr'>"
      ]
     },
     "execution_count": 10,
     "metadata": {},
     "output_type": "execute_result"
    },
    {
     "data": {
      "image/png": "[encoded data removed]",
      "text/plain": [
       "<Figure size 842.4x595.44 with 1 Axes>"
      ]
     },
     "metadata": {},
     "output_type": "display_data"
    }
   ],
   "source": [
    "# сглаженный CTR (для группы 1) и гистограмма для него\n",
    "group1 = df[df.exp_group == 1].copy()\n",
    "group1['smothed_ctr'] = df.apply(\n",
    "    lambda x: get_smothed_ctr(x['likes'], x['views'], global_ctr_1, 5), axis=1)\n",
    "\n",
    "sns.distplot(group1.smothed_ctr, \n",
    "             kde = False)\n"
   ]
  },
  {
   "cell_type": "code",
   "execution_count": 11,
   "id": "b799353a-4624-467e-810d-52c5b0f0120e",
   "metadata": {},
   "outputs": [
    {
     "data": {
      "text/plain": [
       "<AxesSubplot:xlabel='smothed_ctr'>"
      ]
     },
     "execution_count": 11,
     "metadata": {},
     "output_type": "execute_result"
    },
    {
     "data": {
      "image/png": "[encoded data removed]",
      "text/plain": [
       "<Figure size 842.4x595.44 with 1 Axes>"
      ]
     },
     "metadata": {},
     "output_type": "display_data"
    }
   ],
   "source": [
    "# сглаженный CTR (для группы 2) для альфа=5 и гистограмма для него\n",
    "group2 = df[df.exp_group == 2].copy()\n",
    "group2['smothed_ctr'] = df.apply(\n",
    "    lambda x: get_smothed_ctr(x['likes'], x['views'], global_ctr_2, 5), axis=1)\n",
    "\n",
    "sns.distplot(group2.smothed_ctr, \n",
    "             kde = False)\n"
   ]
  },
  {
   "cell_type": "code",
   "execution_count": 12,
   "id": "16ec09a4-40ef-4852-bc7b-01d26060724a",
   "metadata": {},
   "outputs": [
    {
     "data": {
      "text/plain": [
       "MannwhitneyuResult(statistic=43381083.0, pvalue=1.6163964114270227e-61)"
      ]
     },
     "execution_count": 12,
     "metadata": {},
     "output_type": "execute_result"
    }
   ],
   "source": [
    "# получение результатов Манна-Уитни по группам 1 и 2  по показателю ctr\n",
    "stats.mannwhitneyu(group2.smothed_ctr, \n",
    "                   group1.smothed_ctr,\n",
    "                   alternative = 'two-sided')"
   ]
  },
  {
   "cell_type": "markdown",
   "id": "2b07cd58-6435-428f-961f-c31af9a15351",
   "metadata": {},
   "source": [
    "Выводы:   \n",
    "в данном случае применение сглаженного CTR сгладило ситуацию с выбросами (например,  в районе 0 у первой группы), но на ситуацию с двумодальностью принципиально оно повлиять не могло. А поскольку это было главным моментом, который влиял на выводы при использовании обычного CTR, то выводы здесь такие же, как и для обычного CTR (выше)."
   ]
  },
  {
   "cell_type": "markdown",
   "id": "2a8f5593-759f-46a1-b388-c33f9d2db2a0",
   "metadata": {
    "tags": []
   },
   "source": [
    "## Бутстреп пуассоновский"
   ]
  },
  {
   "cell_type": "code",
   "execution_count": 13,
   "id": "49b92719-63c1-41f1-a86e-f217e8d5cbbf",
   "metadata": {},
   "outputs": [],
   "source": [
    "# определяем функцию для бутстрепа на использовании распределения  Пуассона\n",
    "def bootstrap(likes1, views1, likes2, views2, n_bootstrap=2000):\n",
    "\n",
    "    poisson_bootstraps1 = stats.poisson(1).rvs(\n",
    "        (n_bootstrap, len(likes1))).astype(np.int64)\n",
    "\n",
    "    poisson_bootstraps2 = stats.poisson(1).rvs(\n",
    "            (n_bootstrap, len(likes2))).astype(np.int64)\n",
    "    \n",
    "    globalCTR1 = (poisson_bootstraps1*likes1).sum(axis=1)/(poisson_bootstraps1*views1).sum(axis=1)\n",
    "    \n",
    "    globalCTR2 = (poisson_bootstraps2*likes2).sum(axis=1)/(poisson_bootstraps2*views2).sum(axis=1)\n",
    "\n",
    "    return globalCTR1, globalCTR2"
   ]
  },
  {
   "cell_type": "code",
   "execution_count": 14,
   "id": "a7b4feb8-ed35-4c4a-83a9-93ec797e42bd",
   "metadata": {},
   "outputs": [
    {
     "data": {
      "text/plain": [
       "<AxesSubplot:ylabel='Count'>"
      ]
     },
     "execution_count": 14,
     "metadata": {},
     "output_type": "execute_result"
    },
    {
     "data": {
      "image/png": "[encoded data removed]",
      "text/plain": [
       "<Figure size 842.4x595.44 with 1 Axes>"
      ]
     },
     "metadata": {},
     "output_type": "display_data"
    }
   ],
   "source": [
    "# формируем выборки глобальных значений CTR для  группы 1 и группы 2 и строим гистограммы\n",
    "likes1 = df[df.exp_group == 1].likes.to_numpy()\n",
    "views1 = df[df.exp_group == 1].views.to_numpy()\n",
    "likes2 = df[df.exp_group == 2].likes.to_numpy()\n",
    "views2 = df[df.exp_group == 2].views.to_numpy()\n",
    "\n",
    "ctr1, ctr2 = bootstrap(likes1, views1, likes2, views2)\n",
    "\n",
    "sns.histplot(ctr1)\n",
    "sns.histplot(ctr2)"
   ]
  },
  {
   "cell_type": "code",
   "execution_count": 15,
   "id": "c5f6f7b3-d782-4cf6-8399-ae4c28f6de70",
   "metadata": {},
   "outputs": [
    {
     "data": {
      "text/plain": [
       "<AxesSubplot:ylabel='Count'>"
      ]
     },
     "execution_count": 15,
     "metadata": {},
     "output_type": "execute_result"
    },
    {
     "data": {
      "image/png": "[encoded data removed]",
      "text/plain": [
       "<Figure size 842.4x595.44 with 1 Axes>"
      ]
     },
     "metadata": {},
     "output_type": "display_data"
    }
   ],
   "source": [
    "# чтобы убедиться,  что не произошло наложение гистограмм (для двух групп) \n",
    "# друг на друга, выведем гистограмму для второй  группы)\n",
    "sns.histplot(ctr2)"
   ]
  },
  {
   "cell_type": "code",
   "execution_count": 16,
   "id": "fc56fbd4-2bb9-493b-915f-17dda4dc4fcc",
   "metadata": {},
   "outputs": [
    {
     "data": {
      "text/plain": [
       "Ttest_indResult(statistic=285.4476959749008, pvalue=0.0)"
      ]
     },
     "execution_count": 16,
     "metadata": {},
     "output_type": "execute_result"
    }
   ],
   "source": [
    "# получение результатов t-test по группам 1 и 2  по глобальному ctr\n",
    "stats.ttest_ind(ctr1, ctr2,\n",
    "                equal_var=False)"
   ]
  },
  {
   "cell_type": "markdown",
   "id": "c44a772a-5501-4c94-bbed-376bcdfc796b",
   "metadata": {},
   "source": [
    "Выводы:\n",
    "- так как мы строили распределение усредненного CTR по всем пользователям, попавшим в случайную подвыборку, то в каждом случае (если система сплитования работает хорошо и объекты из подгрупп с малым и высоким CTR вгруппе 2 распределялись равномерно) мы все-таки получаем \"среднюю температуру по больнице\", и распределение глобального CTR в группе 2 стало унимодальным, по среднему значению довольно близким к среднему в группе 1, к значению 0.2;\n",
    "- то, что распределения глобалных CTR в группе 1 и 2 получились хорошо разделимыми (и гипотеза о равенстве средних глобальных CTR отвергается по t-критерию), позволяет (зная принцип вычисления глобальных CTR) высказать предположение о природе пользователей в подгруппах с малым и большим CTR в группе 2. Судя по всему, значительная часть пользователей, у которых в группе 2 малый CTR, имеют много просмотров  и уже относительно этого малое число лайков. Поэтому когда мы считаем глобальный  CTR как сумму лайков всех пользователей (в группе), деленную на сумму просмотров всех пользователей, число просмотров у пользователей с малым CTR \"поглощает\" (поскольку значительно превосходит) число просмотров у пользователей с большим CTR, поэтому значения глобального CTR практически не выходят за значения 0.202.  \n",
    "\n",
    "С точки зрения выводов для приложения - такое  распределение показывает, что желание ставить лайки уменьшилось у наиболее активной части пользователей, имеющих наибольшее число просмотров. Думаю, это является рекомендацией к тому, чтобы новшество в приложение не внедрять. "
   ]
  },
  {
   "cell_type": "markdown",
   "id": "6cb71e0a-6c41-4f0f-9389-7b1dbccdc4d9",
   "metadata": {},
   "source": [
    "## Бакетное преобразование"
   ]
  },
  {
   "cell_type": "code",
   "execution_count": 18,
   "id": "40549d57-cd7b-4b4f-b86c-31a8afe29e84",
   "metadata": {},
   "outputs": [
    {
     "data": {
      "image/png": "[encoded data removed]",
      "text/plain": [
       "<Figure size 842.4x595.44 with 1 Axes>"
      ]
     },
     "metadata": {},
     "output_type": "display_data"
    }
   ],
   "source": [
    "# создаем подключение, проверяем, что связь есть, смотрим,\n",
    "# что данные возвращаются адекватные\n",
    "connection = {'host': 'https://clickhouse.lab.karpov.courses',\n",
    "                      'database':'simulator_20220920',\n",
    "                      'user':'student', \n",
    "                      'password':'dpo_python_2020'\n",
    "            }\n",
    "\n",
    "q10 = \"\"\"\n",
    "        SELECT exp_group, bucket,\n",
    "            sum(likes)/sum(views) as bucket_ctr,\n",
    "            quantileExact(0.9)(ctr) as ctr9\n",
    "        FROM (SELECT exp_group, \n",
    "                xxHash64(user_id)%50 as bucket,\n",
    "                user_id,\n",
    "                sum(action = 'like') as likes,\n",
    "                sum(action = 'view') as views,\n",
    "                likes/views as ctr\n",
    "            FROM {db}.feed_actions \n",
    "            WHERE toDate(time) between '2022-09-03' and '2022-09-09'\n",
    "                and exp_group in (1,2)\n",
    "            GROUP BY exp_group, bucket, user_id)\n",
    "        GROUP BY exp_group, bucket\n",
    "    \"\"\"\n",
    "# гистограмма совмещенная\n",
    "df_buc = ph.read_clickhouse(q10, connection=connection)\n",
    "groups = sns.histplot(data = df_buc, \n",
    "              x='bucket_ctr', \n",
    "              hue='exp_group', \n",
    "              palette = ['r', 'b'],\n",
    "              alpha=0.5,\n",
    "              kde=False)"
   ]
  },
  {
   "cell_type": "code",
   "execution_count": 19,
   "id": "aca46548-8f50-49af-bb3a-7238175d436f",
   "metadata": {},
   "outputs": [
    {
     "data": {
      "text/plain": [
       "<AxesSubplot:xlabel='bucket_ctr', ylabel='Count'>"
      ]
     },
     "execution_count": 19,
     "metadata": {},
     "output_type": "execute_result"
    },
    {
     "data": {
      "image/png": "[encoded data removed]",
      "text/plain": [
       "<Figure size 842.4x595.44 with 1 Axes>"
      ]
     },
     "metadata": {},
     "output_type": "display_data"
    }
   ],
   "source": [
    "# гистограмма группы 2 \n",
    "sns.histplot(df_buc[df_buc.exp_group == 2].bucket_ctr)"
   ]
  },
  {
   "cell_type": "code",
   "execution_count": 21,
   "id": "085c4dd0-d4b0-4e84-9310-03d40ea39db7",
   "metadata": {},
   "outputs": [
    {
     "data": {
      "text/plain": [
       "MannwhitneyuResult(statistic=1995.0, pvalue=2.859963936492646e-07)"
      ]
     },
     "execution_count": 21,
     "metadata": {},
     "output_type": "execute_result"
    }
   ],
   "source": [
    "#тест Манна-Уитни видит отличие\n",
    "stats.mannwhitneyu(df_buc[df_buc.exp_group == 1].bucket_ctr, \n",
    "                   df_buc[df_buc.exp_group == 2].bucket_ctr, \n",
    "                   alternative = 'two-sided')"
   ]
  },
  {
   "cell_type": "markdown",
   "id": "6f5cb86d",
   "metadata": {},
   "source": [
    "Вывод:  \n",
    "а вот использование \"метапользователя\" (бакета), собранного из суммарной информации по 50 случайно (с использованиемтой же сплит системы, что и для разбиения на АА или АВ-группы) отобранным пользователям действительно позволяет уйти от двумодальности, и корректно применить тесты. Одннако в данном случае критерий Манна-Уитни говорит о том, что CTR в группе, которой показывали новый вариант рекомендаций, значимо меньше, чем CTR в той группе, где был прежний вариант.  "
   ]
  },
  {
   "cell_type": "markdown",
   "id": "2ff2aeae-df2d-43d2-a857-35257c03d4aa",
   "metadata": {},
   "source": [
    "# Задача 3"
   ]
  },
  {
   "cell_type": "markdown",
   "id": "9db1ab5d-d78a-46c9-b491-02b5c14d735a",
   "metadata": {},
   "source": [
    "## Выборки 1 и 2, линеаризированный CTR"
   ]
  },
  {
   "cell_type": "code",
   "execution_count": 22,
   "id": "c3f338bf-8484-4df8-b73d-c710008a289a",
   "metadata": {},
   "outputs": [],
   "source": [
    "# формируем выборки линеаризированных CTR для  группы 1 и группы 2 \n",
    "linearized_likes_2= likes2 - global_ctr_1*views2 \n",
    "linearized_likes_1= likes1 - global_ctr_1*views1 "
   ]
  },
  {
   "cell_type": "code",
   "execution_count": 23,
   "id": "99b5bb4a-e44e-4e4c-87f6-e7231f435679",
   "metadata": {},
   "outputs": [
    {
     "data": {
      "image/png": "[encoded data removed]",
      "text/plain": [
       "<Figure size 842.4x595.44 with 1 Axes>"
      ]
     },
     "metadata": {},
     "output_type": "display_data"
    }
   ],
   "source": [
    "# и строим гистограммы\n",
    "gr1 = [1 for i  in range(len(linearized_likes_1))]\n",
    "gr2 = [2 for i  in range(len(linearized_likes_2))]\n",
    "df_gr1 = zip(linearized_likes_1,gr1)\n",
    "df_gr2 = zip(linearized_likes_2,gr2)\n",
    "df1 = pd.DataFrame(df_gr1, columns=['lin_CTR', 'gr'])\n",
    "df2 = pd.DataFrame(df_gr2, columns=['lin_CTR', 'gr'])\n",
    "df_lin = pd.concat([df1, df2])\n",
    "\n",
    "groups = sns.histplot(data = df_lin, \n",
    "              x='lin_CTR', \n",
    "              hue='gr', \n",
    "              palette = ['r', 'b'],\n",
    "              alpha=0.5,\n",
    "              kde=False)\n"
   ]
  },
  {
   "cell_type": "code",
   "execution_count": 24,
   "id": "cd4f1846-08c8-48d8-b7d2-0343f2b7671b",
   "metadata": {},
   "outputs": [
    {
     "data": {
      "text/plain": [
       "Ttest_indResult(statistic=6.122579994775973, pvalue=9.439432187037712e-10)"
      ]
     },
     "execution_count": 24,
     "metadata": {},
     "output_type": "execute_result"
    }
   ],
   "source": [
    "# получение результатов t-test по группам 1 и 2  по линеаризированным ctr\n",
    "stats.ttest_ind(linearized_likes_1, linearized_likes_2,\n",
    "                equal_var=False)"
   ]
  },
  {
   "cell_type": "code",
   "execution_count": 25,
   "id": "e46f9f2c-c124-4e94-ad7e-0c158f3f7064",
   "metadata": {},
   "outputs": [
    {
     "data": {
      "text/plain": [
       "(-4.2580396110636028e-16, -0.6592771236485203)"
      ]
     },
     "execution_count": 25,
     "metadata": {},
     "output_type": "execute_result"
    }
   ],
   "source": [
    "# вычисляем среднее линеаризированных лайков по группам \n",
    "(df1['lin_CTR'].mean(),df2['lin_CTR'].mean())"
   ]
  },
  {
   "cell_type": "markdown",
   "id": "7cbd884a-79cf-456a-8d75-609277621548",
   "metadata": {},
   "source": [
    "Выводы:\n",
    "- применение линеаризированных CTR (вместо обычных) сделал подгруппы (с меньшим и большим CTR) группы 2 не настолько хорошо разделимыми, но распределение в группе 2 все равно остается отчетливо двумодальным\n",
    "- в данном случае в первой группе среднее  де-факторавно нулю, а во второй группе равно -0.66, и t-критерий находит между ними статистически значимые различия (pvalue=9.4394e-10 < 0.05), но, во-первых, t-критерий здесь также некорректно применять, как и в ситуации с обычным CTR, а во-вторых, разница средних не в пользу гипотезы  о том, что новый алгоритм улучшает CTR.\n",
    "- в целом, анализируя график с гистограммами, можно заметить, что преобразование линеанеризации CTR позволяет увидеть, что в группе 2 подгруппа с малым значением CTR  дает больший вклад в  общую активность группы за счет того, что абсолютные значения лайков и просмотров в ней учитываются не только в виде взаимных отношений, но и непосредственно при вычислении, что позволяет лучше учитывать и саму активность пользователей.     "
   ]
  },
  {
   "cell_type": "markdown",
   "id": "d377efc6-ba5c-4afe-9754-172e28cd6824",
   "metadata": {},
   "source": [
    "## Выборки 0 и 3, обычный CTR"
   ]
  },
  {
   "cell_type": "code",
   "execution_count": 26,
   "id": "d34d59b6-f4c4-4946-b549-e92784bdfdab",
   "metadata": {},
   "outputs": [
    {
     "data": {
      "text/html": [
       "<div>\n",
       "<style scoped>\n",
       "    .dataframe tbody tr th:only-of-type {\n",
       "        vertical-align: middle;\n",
       "    }\n",
       "\n",
       "    .dataframe tbody tr th {\n",
       "        vertical-align: top;\n",
       "    }\n",
       "\n",
       "    .dataframe thead th {\n",
       "        text-align: right;\n",
       "    }\n",
       "</style>\n",
       "<table border=\"1\" class=\"dataframe\">\n",
       "  <thead>\n",
       "    <tr style=\"text-align: right;\">\n",
       "      <th></th>\n",
       "      <th>user_id</th>\n",
       "      <th>likes</th>\n",
       "      <th>views</th>\n",
       "      <th>ctr</th>\n",
       "    </tr>\n",
       "    <tr>\n",
       "      <th>exp_group</th>\n",
       "      <th></th>\n",
       "      <th></th>\n",
       "      <th></th>\n",
       "      <th></th>\n",
       "    </tr>\n",
       "  </thead>\n",
       "  <tbody>\n",
       "    <tr>\n",
       "      <th>0</th>\n",
       "      <td>9999</td>\n",
       "      <td>9999</td>\n",
       "      <td>9999</td>\n",
       "      <td>9999</td>\n",
       "    </tr>\n",
       "    <tr>\n",
       "      <th>3</th>\n",
       "      <td>10049</td>\n",
       "      <td>10049</td>\n",
       "      <td>10049</td>\n",
       "      <td>10049</td>\n",
       "    </tr>\n",
       "  </tbody>\n",
       "</table>\n",
       "</div>"
      ],
      "text/plain": [
       "           user_id  likes  views    ctr\n",
       "exp_group                              \n",
       "0             9999   9999   9999   9999\n",
       "3            10049  10049  10049  10049"
      ]
     },
     "execution_count": 26,
     "metadata": {},
     "output_type": "execute_result"
    }
   ],
   "source": [
    "# подключились к БД и выполнили запрос по извлечению всех пользователей в группе 0 и 3 \n",
    "# в нужном временном интервале и информации по ним (ctr на каждого userа)\n",
    "q2 = \"\"\"\n",
    "    SELECT exp_group, \n",
    "        user_id,\n",
    "        sum(action = 'like') as likes,\n",
    "        sum(action = 'view') as views,\n",
    "        likes/views as ctr\n",
    "    FROM {db}.feed_actions \n",
    "    WHERE toDate(time) between '2022-09-03' and '2022-09-09'\n",
    "        and exp_group in (0,3)\n",
    "    GROUP BY exp_group, user_id\n",
    "    \"\"\"\n",
    "# создаем подключение, проверяем, что связь есть, смотрим,что данные возвращаются адекватные\n",
    "connection = {'host': 'https://clickhouse.lab.karpov.courses',\n",
    "                      'database':'simulator_20220920',\n",
    "                      'user':'student', \n",
    "                      'password':'dpo_python_2020'\n",
    "                     }\n",
    "\n",
    "\n",
    "df_new = ph.read_clickhouse(q2, connection=connection)\n",
    "# вывели число пользователей в получившихся группах\n",
    "df_new.groupby('exp_group').count() "
   ]
  },
  {
   "cell_type": "code",
   "execution_count": 27,
   "id": "9bf5a889-bd5f-40c7-936a-520a56d84078",
   "metadata": {},
   "outputs": [
    {
     "data": {
      "image/png": "[encoded data removed]",
      "text/plain": [
       "<Figure size 842.4x595.44 with 1 Axes>"
      ]
     },
     "metadata": {},
     "output_type": "display_data"
    }
   ],
   "source": [
    "# гистограммы по обоим группам вместе (на одном рисунке)\n",
    "sns.set(rc={'figure.figsize':(11.7,8.27)})\n",
    "groups = sns.histplot(data = df_new, \n",
    "              x='ctr', \n",
    "              hue='exp_group', \n",
    "              palette = ['r', 'b'],\n",
    "              alpha=0.5,\n",
    "              kde=False)\n"
   ]
  },
  {
   "cell_type": "code",
   "execution_count": 28,
   "id": "c5425e70-fbe0-4460-9441-0670442ebcc9",
   "metadata": {},
   "outputs": [
    {
     "data": {
      "text/plain": [
       "Ttest_indResult(statistic=-13.896870721904069, pvalue=1.055849414662529e-43)"
      ]
     },
     "execution_count": 28,
     "metadata": {},
     "output_type": "execute_result"
    }
   ],
   "source": [
    "# получение результатов t-test по группам 0 и 3  по показателю ctr\n",
    "stats.ttest_ind(df_new[df_new.exp_group == 0].ctr,\n",
    "                df_new[df_new.exp_group == 3].ctr,\n",
    "                equal_var=False)"
   ]
  },
  {
   "cell_type": "code",
   "execution_count": 29,
   "id": "41cc424e-b780-4b6e-ab18-495a31e5b751",
   "metadata": {},
   "outputs": [
    {
     "data": {
      "text/plain": [
       "MannwhitneyuResult(statistic=43682792.0, pvalue=1.1952055473582936e-57)"
      ]
     },
     "execution_count": 29,
     "metadata": {},
     "output_type": "execute_result"
    }
   ],
   "source": [
    "# получение результатов Манна-Уитни по группам 0 и 3  по показателю ctr\n",
    "stats.mannwhitneyu(df_new[df_new.exp_group == 0].ctr, \n",
    "                   df_new[df_new.exp_group == 3].ctr,\n",
    "                   alternative = 'two-sided')"
   ]
  },
  {
   "cell_type": "code",
   "execution_count": 60,
   "id": "925b3aa2-d90f-4c24-8ad0-cc263e0687c2",
   "metadata": {},
   "outputs": [
    {
     "data": {
      "text/plain": [
       "(0.21594964998983304, 0.23262390914604023)"
      ]
     },
     "execution_count": 60,
     "metadata": {},
     "output_type": "execute_result"
    }
   ],
   "source": [
    "# средние в группах по линеаризированным ctr\n",
    "(df_new[df_new.exp_group == 0].ctr.mean(),df_new[df_new.exp_group == 3].ctr.mean())"
   ]
  },
  {
   "cell_type": "markdown",
   "id": "6fc4e4fa-7092-43a4-b0d8-7300b48678d2",
   "metadata": {},
   "source": [
    "Выводы:\n",
    "-\tпо обычному CTR оба метода (t-критерий и критерий Манна-Уитни) находят статистически значимые различия, причем среднее по CTR в группе, которой предложили новый алгоритм (группа 3) - выше;\n",
    "-\tграфики также показывают смещение распределения CTR в группе 3 относительно группы 0 вправо, что согласуется с результатами по критериям;\n",
    "-\tграфики не показывают критических отклонений эмпирических распределений от необходимого нормального закона, хотя отдельные выбросы наблюдаются как для группы 0, так и для группы 3, но в целом нет оснований не доверять результатам тестов."
   ]
  },
  {
   "cell_type": "markdown",
   "id": "b35d89ee",
   "metadata": {},
   "source": [
    "## Выборки 0 и 3, линеаризированный CTR"
   ]
  },
  {
   "cell_type": "code",
   "execution_count": 30,
   "id": "807e151a-cb81-44c5-8cb9-bb22d875e3a9",
   "metadata": {},
   "outputs": [
    {
     "data": {
      "image/png": "[encoded data removed]",
      "text/plain": [
       "<Figure size 842.4x595.44 with 1 Axes>"
      ]
     },
     "metadata": {},
     "output_type": "display_data"
    }
   ],
   "source": [
    "# формируем нужные выборки\n",
    "likes0 = df_new[df_new.exp_group == 0].likes.to_numpy()\n",
    "views0 = df_new[df_new.exp_group == 0].views.to_numpy()\n",
    "likes3 = df_new[df_new.exp_group == 3].likes.to_numpy()\n",
    "views3 = df_new[df_new.exp_group == 3].views.to_numpy()\n",
    "\n",
    "global_ctr_0 = df_new[df_new.exp_group == 0].likes.sum()/df_new[df_new.exp_group == 0].views.sum()\n",
    "\n",
    "# формируем выборки линеаризированных CTR для  группы 1 и группы 2 и строим гистограммы\n",
    "linearized_likes_3= likes3 - global_ctr_0*views3 \n",
    "linearized_likes_0= likes0 - global_ctr_0*views0 \n",
    "gr0 = [0 for i  in range(len(linearized_likes_0))]\n",
    "gr3 = [3 for i  in range(len(linearized_likes_3))]\n",
    "\n",
    "df_gr0 = zip(linearized_likes_0,gr0)\n",
    "df_gr3 = zip(linearized_likes_3,gr3)\n",
    "df0 = pd.DataFrame(df_gr0, columns=['lin_CTR', 'gr'])\n",
    "df3 = pd.DataFrame(df_gr3, columns=['lin_CTR', 'gr'])\n",
    "df_lin_new = pd.concat([df0, df3])\n",
    "\n",
    "groups = sns.histplot(data = df_lin_new, \n",
    "              x='lin_CTR', \n",
    "              hue='gr', \n",
    "              palette = ['r', 'b'],\n",
    "              alpha=0.5,\n",
    "              kde=False)"
   ]
  },
  {
   "cell_type": "code",
   "execution_count": 31,
   "id": "acf10e63-189d-42be-8446-c68a9a219cac",
   "metadata": {},
   "outputs": [
    {
     "data": {
      "text/plain": [
       "Ttest_indResult(statistic=-15.21499546090383, pvalue=5.4914249479687664e-52)"
      ]
     },
     "execution_count": 31,
     "metadata": {},
     "output_type": "execute_result"
    }
   ],
   "source": [
    "# получение результатов t-test по группам 0 и 3  по линеаризированным ctr\n",
    "stats.ttest_ind(linearized_likes_0, linearized_likes_3,\n",
    "                equal_var=False)"
   ]
  },
  {
   "cell_type": "code",
   "execution_count": 32,
   "id": "d4d8b474-b6dd-4a42-996c-5bc8dd4f6c27",
   "metadata": {},
   "outputs": [
    {
     "data": {
      "text/plain": [
       "MannwhitneyuResult(statistic=43338326.0, pvalue=1.1517315029786597e-63)"
      ]
     },
     "execution_count": 32,
     "metadata": {},
     "output_type": "execute_result"
    }
   ],
   "source": [
    "# получение результатов Манна-Уитни по группам 0 и 3  по линеаризированным ctr\n",
    "stats.mannwhitneyu(linearized_likes_0, linearized_likes_3,\n",
    "                   alternative = 'two-sided')"
   ]
  },
  {
   "cell_type": "code",
   "execution_count": 33,
   "id": "4ea0d4aa-d0fc-4b97-a7a1-68ab61e4983e",
   "metadata": {},
   "outputs": [
    {
     "data": {
      "text/plain": [
       "(7.205623902997716e-16, 1.0713337480659029)"
      ]
     },
     "execution_count": 33,
     "metadata": {},
     "output_type": "execute_result"
    }
   ],
   "source": [
    "(df0['lin_CTR'].mean(),df3['lin_CTR'].mean())"
   ]
  },
  {
   "cell_type": "markdown",
   "id": "bbf320c6-1b36-4d50-aec0-c94868a212e8",
   "metadata": {},
   "source": [
    "Вывод:\n",
    "- линеаризация привела к меньшему числу выбросов в эмпирических распределениях, что делает их еще более похожими на нормальный закон распределения;\n",
    "- критерии также отвергли гипотезу о равенстве средних, что  позволяет говорить о  том, что CTR в группе с новым алгоритмов значимо больше, чем в группе с прежним."
   ]
  },
  {
   "cell_type": "markdown",
   "id": "f78d3b53-1a7a-4510-8148-f96dc0e962a2",
   "metadata": {},
   "source": [
    "# Общий вывод по анализу выборок 1 и 2"
   ]
  },
  {
   "cell_type": "markdown",
   "id": "510dab72-417e-44b2-b545-b4feca066bf9",
   "metadata": {},
   "source": [
    "Моя рекомендация по тому, будем ли мы раскатывать новый алгоритм на всех новых пользователей или все-таки не стоит? - нет, на всех пользователей точно не стоит, так как наиболее активная их часть отреагировала негативно на новый алгоритм, гипотеза о том, что с новым алгоритмом CTR станет значимо больше, не подтвердилась.  \n",
    "\n",
    "Единственное, что можно попытаться составить портрет типичного представителя двух подгрупп группы 2 по демографическим и техническим характеристикам. Если какой-то набор значений  характеристик позволит четко классифицировать пользователей на тех, у кого новый алгоритм  вызвал понижение CTR, и у кого вызвал повышение, то можно проанализировать уже эти характеристики. Если они окажутся техническими, то, возможно, понижение CTR связано с какой-то спецификой применения нового алгоритма на определенных устройствах, и эту проблему можно найти и устранить. Если выделятся демографические характеристики, то можно подумать о возможной дальнейшей персониикации алгоритма приложения под определенный тип пользователя, что позволит избежать просадки CTR у одних пользователей и сохранить прирост CTR у других.       "
   ]
  }
 ],
 "metadata": {
  "kernelspec": {
   "display_name": "Python 3 (ipykernel)",
   "language": "python",
   "name": "python3"
  },
  "language_info": {
   "codemirror_mode": {
    "name": "ipython",
    "version": 3
   },
   "file_extension": ".py",
   "mimetype": "text/x-python",
   "name": "python",
   "nbconvert_exporter": "python",
   "pygments_lexer": "ipython3",
   "version": "3.10.4"
  }
 },
 "nbformat": 4,
 "nbformat_minor": 5
}
